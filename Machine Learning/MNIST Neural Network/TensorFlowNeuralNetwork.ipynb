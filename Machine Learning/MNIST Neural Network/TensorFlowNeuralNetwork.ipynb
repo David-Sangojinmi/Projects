{
  "nbformat": 4,
  "nbformat_minor": 0,
  "metadata": {
    "colab": {
      "name": "TensorFlowNeuralNetwork",
      "version": "0.3.2",
      "provenance": [],
      "collapsed_sections": []
    },
    "kernelspec": {
      "name": "python3",
      "display_name": "Python 3"
    }
  },
  "cells": [
    {
      "cell_type": "markdown",
      "metadata": {
        "id": "a-_kWOHQTS-A",
        "colab_type": "text"
      },
      "source": [
        "# Basic TensorFlow Neural Network"
      ]
    },
    {
      "cell_type": "markdown",
      "metadata": {
        "id": "UD_BR1CPTTBV",
        "colab_type": "text"
      },
      "source": [
        "The code below uses the MNIST dataset already on TensorFlow and trains with it with a neural network. The neural network has five layers.\n",
        "\n",
        "1.   A layer to flatten the 28x28 images into 784 input neurons\n",
        "2.   A dense layer (in which all neurons are connected) of 512 neurons which uses a ReLU activation function\n",
        "3.   Another dense layer of 512 neurons which uses a ReLU activation function\n",
        "4.   A dropout layer which does ...\n",
        "5.   A final layer with 10 outputs for each of the numbers. This uses a softmax activation function\n",
        "\n",
        "The network trains with 60000 MNIST digits from the data set, for 5 epochs, and then evaluates with the other 10000. An epoch is a measure of the number of times all of the training vectors are used once to update the weights.\n",
        "For batch training, this nn, all of the training samples pass through the neural network simultaneously in one epoch before weights are updated.\n",
        "\n",
        "The two values at the end are metrics we can use to evaluate the network, the **loss** and **accuracy**. A loss function optimizes the network by producing the optimum weights. The loss value shows the inconsistency between the predicted value and the actual label. Whereas accuracy measures performance in an interpretable manner, by showing the percentage of correctly predicted outputs."
      ]
    },
    {
      "cell_type": "code",
      "metadata": {
        "id": "oshlHJaXTTQ3",
        "colab_type": "code",
        "colab": {}
      },
      "source": [
        "import tensorflow as tf\n",
        "mnist = tf.keras.datasets.mnist\n",
        "\n",
        "(x_train, y_train),(x_test, y_test) = mnist.load_data()\n",
        "x_train, x_test = x_train / 255.0, x_test / 255.0\n",
        "\n",
        "model = tf.keras.models.Sequential([\n",
        "  tf.keras.layers.Flatten(input_shape=(28, 28)),\n",
        "  tf.keras.layers.Dense(512, activation=tf.nn.relu),\n",
        "  tf.keras.layers.Dense(512, activation=tf.nn.relu),\n",
        "  tf.keras.layers.Dropout(0.2),\n",
        "  tf.keras.layers.Dense(10, activation=tf.nn.softmax)\n",
        "])\n",
        "model.compile(optimizer='adam',\n",
        "              loss='sparse_categorical_crossentropy',\n",
        "              metrics=['accuracy'])\n",
        "\n",
        "model.fit(x_train, y_train, epochs=5)\n",
        "model.evaluate(x_test, y_test)"
      ],
      "execution_count": 0,
      "outputs": []
    }
  ]
}