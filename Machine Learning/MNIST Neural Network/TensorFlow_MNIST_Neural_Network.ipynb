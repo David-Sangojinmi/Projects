{
  "nbformat": 4,
  "nbformat_minor": 0,
  "metadata": {
    "colab": {
      "name": "TensorFlow MNIST Neural Network",
      "provenance": [],
      "collapsed_sections": []
    },
    "kernelspec": {
      "name": "python3",
      "display_name": "Python 3"
    }
  },
  "cells": [
    {
      "cell_type": "markdown",
      "metadata": {
        "id": "a-_kWOHQTS-A",
        "colab_type": "text"
      },
      "source": [
        "# TensorFlow Neural Network\n",
        "This neural network trains and tests on the MNIST handwritten digits dataset."
      ]
    },
    {
      "cell_type": "code",
      "metadata": {
        "id": "xjzmhu10LXab",
        "colab_type": "code",
        "colab": {}
      },
      "source": [
        "import tensorflow as tf\n",
        "\n",
        "image_size = 28\n",
        "labels_size = 10\n",
        "hidden_size = 1024\n",
        "\n",
        "# Define placeholders\n",
        "training_data = tf.placeholder(tf.float32, [None, image_size*image_size])\n",
        "labels = tf.placeholder(tf.float32, [None, labels_size])\n",
        "\n",
        "# Variables for the hidden layer\n",
        "W_h = tf.Variable(tf.truncated_normal([image_size*image_size, hidden_size], stddev=0.1))\n",
        "b_h = tf.Variable(tf.constant(0.1, shape=[hidden_size]))\n",
        "\n",
        "# Hidden layer with reLU activation function\n",
        "hidden = tf.nn.relu(tf.matmul(training_data, W_h) + b_h)\n",
        "\n",
        "# Variables for the output layer\n",
        "W = tf.Variable(tf.truncated_normal([hidden_size, labels_size], stddev=0.1))\n",
        "b = tf.Variable(tf.constant(0.1, shape=[labels_size]))\n",
        "\n",
        "# Connect hidden to the output layer\n",
        "output = tf.matmul(hidden, W) + b\n",
        "\n",
        "# Train & test the network\n",
        "from tensorflow.examples.tutorials.mnist import input_data\n",
        "\n",
        "def train_network(training_data, labels, output, keep_prob=tf.placeholder(tf.float32)):\n",
        "    learning_rate = 1e-4\n",
        "    steps_number = 1000\n",
        "    batch_size = 100\n",
        "\n",
        "    # Read data\n",
        "    mnist = input_data.read_data_sets(\"MNIST_data/\", one_hot=True)\n",
        "\n",
        "    # Define the loss function\n",
        "    loss = tf.reduce_mean(tf.nn.softmax_cross_entropy_with_logits(labels=labels, logits=output))\n",
        "\n",
        "    # Training step\n",
        "    train_step = tf.train.AdamOptimizer(learning_rate).minimize(loss)\n",
        "\n",
        "    # Accuracy calculation\n",
        "    correct_prediction = tf.equal(tf.argmax(output, 1), tf.argmax(labels, 1))\n",
        "    accuracy = tf.reduce_mean(tf.cast(correct_prediction, tf.float32))\n",
        "\n",
        "    # Run the training\n",
        "    sess = tf.InteractiveSession()\n",
        "    sess.run(tf.global_variables_initializer())\n",
        "\n",
        "    for i in range(steps_number):\n",
        "        # Get the next batch\n",
        "        input_batch, labels_batch = mnist.train.next_batch(batch_size)\n",
        "\n",
        "        # Print the accuracy progress on the batch every 100 steps\n",
        "        if i%100 == 0:\n",
        "            train_accuracy = accuracy.eval(feed_dict={training_data: input_batch, labels: labels_batch, keep_prob: 1.0})\n",
        "            print(\"Step %d, training batch accuracy %g %%\"%(i, train_accuracy*100))\n",
        "\n",
        "        # Run the training step\n",
        "        train_step.run(feed_dict={training_data: input_batch, labels: labels_batch, keep_prob: 0.5})\n",
        "\n",
        "    print(\"The end of training!\")\n",
        "\n",
        "    # Evaluate on the test set\n",
        "    test_accuracy = accuracy.eval(feed_dict={training_data: mnist.test.images, labels: mnist.test.labels, keep_prob: 1.0})\n",
        "    print(\"Test accuracy: %g %%\"%(test_accuracy*100))\n",
        "\n",
        "train_network(training_data, labels, output)"
      ],
      "execution_count": 0,
      "outputs": []
    }
  ]
}