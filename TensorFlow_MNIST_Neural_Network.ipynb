{
  "nbformat": 4,
  "nbformat_minor": 0,
  "metadata": {
    "colab": {
      "name": "TensorFlow MNIST Neural Network",
      "provenance": [],
      "collapsed_sections": [],
      "include_colab_link": true
    },
    "kernelspec": {
      "name": "python3",
      "display_name": "Python 3"
    }
  },
  "cells": [
    {
      "cell_type": "markdown",
      "metadata": {
        "id": "view-in-github",
        "colab_type": "text"
      },
      "source": [
        "<a href=\"https://colab.research.google.com/github/David-Sangojinmi/Projects/blob/master/TensorFlow_MNIST_Neural_Network.ipynb\" target=\"_parent\"><img src=\"https://colab.research.google.com/assets/colab-badge.svg\" alt=\"Open In Colab\"/></a>"
      ]
    },
    {
      "cell_type": "markdown",
      "metadata": {
        "id": "a-_kWOHQTS-A",
        "colab_type": "text"
      },
      "source": [
        "# TensorFlow Neural Network\n",
        "This neural network trains and tests on the MNIST handwritten digits dataset."
      ]
    },
    {
      "cell_type": "code",
      "metadata": {
        "id": "xjzmhu10LXab",
        "colab_type": "code",
        "colab": {
          "base_uri": "https://localhost:8080/",
          "height": 751
        },
        "outputId": "48c19cc9-0500-4401-a2df-1ef2ab4d25a0"
      },
      "source": [
        "import tensorflow as tf\n",
        "\n",
        "image_size = 28\n",
        "labels_size = 10\n",
        "hidden_size = 1024\n",
        "\n",
        "# Define placeholders\n",
        "training_data = tf.placeholder(tf.float32, [None, image_size*image_size])\n",
        "labels = tf.placeholder(tf.float32, [None, labels_size])\n",
        "\n",
        "# Variables for the hidden layer\n",
        "W_h = tf.Variable(tf.truncated_normal([image_size*image_size, hidden_size], stddev=0.1))\n",
        "b_h = tf.Variable(tf.constant(0.1, shape=[hidden_size]))\n",
        "\n",
        "# Hidden layer with reLU activation function\n",
        "hidden = tf.nn.relu(tf.matmul(training_data, W_h) + b_h)\n",
        "\n",
        "# Variables for the output layer\n",
        "W = tf.Variable(tf.truncated_normal([hidden_size, labels_size], stddev=0.1))\n",
        "b = tf.Variable(tf.constant(0.1, shape=[labels_size]))\n",
        "\n",
        "# Connect hidden to the output layer\n",
        "output = tf.matmul(hidden, W) + b\n",
        "\n",
        "# Train & test the network\n",
        "from tensorflow.examples.tutorials.mnist import input_data\n",
        "\n",
        "def train_network(training_data, labels, output, keep_prob=tf.placeholder(tf.float32)):\n",
        "    learning_rate = 1e-4\n",
        "    steps_number = 1000\n",
        "    batch_size = 100\n",
        "\n",
        "    # Read data\n",
        "    mnist = input_data.read_data_sets(\"MNIST_data/\", one_hot=True)\n",
        "\n",
        "    # Define the loss function\n",
        "    loss = tf.reduce_mean(tf.nn.softmax_cross_entropy_with_logits(labels=labels, logits=output))\n",
        "\n",
        "    # Training step\n",
        "    train_step = tf.train.AdamOptimizer(learning_rate).minimize(loss)\n",
        "\n",
        "    # Accuracy calculation\n",
        "    correct_prediction = tf.equal(tf.argmax(output, 1), tf.argmax(labels, 1))\n",
        "    accuracy = tf.reduce_mean(tf.cast(correct_prediction, tf.float32))\n",
        "\n",
        "    # Run the training\n",
        "    sess = tf.InteractiveSession()\n",
        "    sess.run(tf.global_variables_initializer())\n",
        "\n",
        "    for i in range(steps_number):\n",
        "        # Get the next batch\n",
        "        input_batch, labels_batch = mnist.train.next_batch(batch_size)\n",
        "\n",
        "        # Print the accuracy progress on the batch every 100 steps\n",
        "        if i%100 == 0:\n",
        "            train_accuracy = accuracy.eval(feed_dict={training_data: input_batch, labels: labels_batch, keep_prob: 1.0})\n",
        "            print(\"Step %d, training batch accuracy %g %%\"%(i, train_accuracy*100))\n",
        "\n",
        "        # Run the training step\n",
        "        train_step.run(feed_dict={training_data: input_batch, labels: labels_batch, keep_prob: 0.5})\n",
        "\n",
        "    print(\"The end of training!\")\n",
        "\n",
        "    # Evaluate on the test set\n",
        "    test_accuracy = accuracy.eval(feed_dict={training_data: mnist.test.images, labels: mnist.test.labels, keep_prob: 1.0})\n",
        "    print(\"Test accuracy: %g %%\"%(test_accuracy*100))\n",
        "\n",
        "train_network(training_data, labels, output)"
      ],
      "execution_count": 2,
      "outputs": [
        {
          "output_type": "stream",
          "text": [
            "WARNING:tensorflow:From <ipython-input-2-ba4833bb4c00>:34: read_data_sets (from tensorflow.contrib.learn.python.learn.datasets.mnist) is deprecated and will be removed in a future version.\n",
            "Instructions for updating:\n",
            "Please use alternatives such as official/mnist/dataset.py from tensorflow/models.\n",
            "WARNING:tensorflow:From /usr/local/lib/python3.6/dist-packages/tensorflow/contrib/learn/python/learn/datasets/mnist.py:260: maybe_download (from tensorflow.contrib.learn.python.learn.datasets.base) is deprecated and will be removed in a future version.\n",
            "Instructions for updating:\n",
            "Please write your own downloading logic.\n",
            "WARNING:tensorflow:From /usr/local/lib/python3.6/dist-packages/tensorflow/contrib/learn/python/learn/datasets/mnist.py:262: extract_images (from tensorflow.contrib.learn.python.learn.datasets.mnist) is deprecated and will be removed in a future version.\n",
            "Instructions for updating:\n",
            "Please use tf.data to implement this functionality.\n",
            "Extracting MNIST_data/train-images-idx3-ubyte.gz\n",
            "WARNING:tensorflow:From /usr/local/lib/python3.6/dist-packages/tensorflow/contrib/learn/python/learn/datasets/mnist.py:267: extract_labels (from tensorflow.contrib.learn.python.learn.datasets.mnist) is deprecated and will be removed in a future version.\n",
            "Instructions for updating:\n",
            "Please use tf.data to implement this functionality.\n",
            "Extracting MNIST_data/train-labels-idx1-ubyte.gz\n",
            "WARNING:tensorflow:From /usr/local/lib/python3.6/dist-packages/tensorflow/contrib/learn/python/learn/datasets/mnist.py:110: dense_to_one_hot (from tensorflow.contrib.learn.python.learn.datasets.mnist) is deprecated and will be removed in a future version.\n",
            "Instructions for updating:\n",
            "Please use tf.one_hot on tensors.\n",
            "Extracting MNIST_data/t10k-images-idx3-ubyte.gz\n",
            "Extracting MNIST_data/t10k-labels-idx1-ubyte.gz\n",
            "WARNING:tensorflow:From /usr/local/lib/python3.6/dist-packages/tensorflow/contrib/learn/python/learn/datasets/mnist.py:290: DataSet.__init__ (from tensorflow.contrib.learn.python.learn.datasets.mnist) is deprecated and will be removed in a future version.\n",
            "Instructions for updating:\n",
            "Please use alternatives such as official/mnist/dataset.py from tensorflow/models.\n",
            "WARNING:tensorflow:From <ipython-input-2-ba4833bb4c00>:37: softmax_cross_entropy_with_logits (from tensorflow.python.ops.nn_ops) is deprecated and will be removed in a future version.\n",
            "Instructions for updating:\n",
            "\n",
            "Future major versions of TensorFlow will allow gradients to flow\n",
            "into the labels input on backprop by default.\n",
            "\n",
            "See `tf.nn.softmax_cross_entropy_with_logits_v2`.\n",
            "\n",
            "Step 0, training batch accuracy 11 %\n",
            "Step 100, training batch accuracy 87 %\n",
            "Step 200, training batch accuracy 86 %\n",
            "Step 300, training batch accuracy 94 %\n",
            "Step 400, training batch accuracy 91 %\n",
            "Step 500, training batch accuracy 93 %\n",
            "Step 600, training batch accuracy 95 %\n",
            "Step 700, training batch accuracy 91 %\n",
            "Step 800, training batch accuracy 93 %\n",
            "Step 900, training batch accuracy 92 %\n",
            "The end of training!\n",
            "Test accuracy: 94.28 %\n"
          ],
          "name": "stdout"
        }
      ]
    }
  ]
}